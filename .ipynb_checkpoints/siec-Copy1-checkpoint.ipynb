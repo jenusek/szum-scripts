{
 "cells": [
  {
   "cell_type": "code",
   "execution_count": null,
   "metadata": {},
   "outputs": [
    {
     "name": "stderr",
     "output_type": "stream",
     "text": [
      "Using TensorFlow backend.\n"
     ]
    }
   ],
   "source": [
    "from keras.preprocessing.image import load_img, img_to_array\n",
    "import os\n",
    "\n",
    "# [.0, .0, .0, .0, 1.0] => Jakim jesteś kwiatkiem\n",
    "\n",
    "flower_types = {\n",
    "    \"daisy\": 0,\n",
    "    \"tulip\": 1,\n",
    "    \"sunflower\": 2,\n",
    "    \"rose\": 3,\n",
    "    \"dandelion\": 4,\n",
    "    \"tulipan\": 1\n",
    "}\n",
    "\n",
    "flowers = []\n",
    "labels = []\n",
    "\n",
    "for folder, _, filenames in os.walk('/macierz/home/s165756/images/kaggle'):\n",
    "    for filename in filenames:\n",
    "        if (os.path.splitext(filename)[1] == \".jpg\"):\n",
    "            image = load_img(os.path.join(folder, filename), target_size=(240,240))\n",
    "            flowers.append(img_to_array(image))\n",
    "            label = [.0, .0, .0, .0, .0]\n",
    "            label[flower_types[folder.split('/')[-1]]] = 1.0\n",
    "            labels.append(label)\n",
    "        \n",
    "print(labels)"
   ]
  },
  {
   "cell_type": "code",
   "execution_count": null,
   "metadata": {},
   "outputs": [],
   "source": [
    "from keras.models import Sequential\n",
    "from keras.layers import Dense, Conv2D, Flatten\n",
    "#create model\n",
    "model = Sequential()\n",
    "#add model layers\n",
    "model.add(Conv2D(64, kernel_size=3, activation='relu', input_shape=(240,240,3)))\n",
    "model.add(Conv2D(32, kernel_size=3, activation='relu'))\n",
    "model.add(Flatten())\n",
    "model.add(Dense(10, activation='softmax'))\n",
    "\n",
    "#compile model using accuracy to measure model performance\n",
    "model.compile(optimizer='adam', loss='categorical_crossentropy', metrics=['accuracy'])"
   ]
  },
  {
   "cell_type": "code",
   "execution_count": null,
   "metadata": {},
   "outputs": [],
   "source": [
    "#train the model\n",
    "import numpy as np\n",
    "\n",
    "X_train = np.array(flowers[:100])\n",
    "X_test = np.array(labels[:100])\n",
    "\n",
    "from keras.utils import to_categorical\n",
    "\n",
    "y_train = np.array(flowers[100:150])\n",
    "y_test = np.array(labels[100:150])\n",
    "\n",
    "y_train = to_categorical(y_train)\n",
    "y_test = to_categorical(y_test)\n",
    "\n",
    "model.fit(X_train, y_train, validation_data=(X_test, y_test), epochs=3)"
   ]
  },
  {
   "cell_type": "code",
   "execution_count": null,
   "metadata": {},
   "outputs": [],
   "source": [
    "model.predict(X_test[:4])"
   ]
  },
  {
   "cell_type": "code",
   "execution_count": null,
   "metadata": {},
   "outputs": [],
   "source": [
    "#actual results for first 4 images in test set\n",
    "y_test[:4]"
   ]
  },
  {
   "cell_type": "code",
   "execution_count": null,
   "metadata": {},
   "outputs": [],
   "source": []
  }
 ],
 "metadata": {
  "kernelspec": {
   "display_name": "Python 3",
   "language": "python",
   "name": "python3"
  },
  "language_info": {
   "codemirror_mode": {
    "name": "ipython",
    "version": 3
   },
   "file_extension": ".py",
   "mimetype": "text/x-python",
   "name": "python",
   "nbconvert_exporter": "python",
   "pygments_lexer": "ipython3",
   "version": "3.6.9"
  }
 },
 "nbformat": 4,
 "nbformat_minor": 2
}
