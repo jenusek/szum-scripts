{
 "cells": [
  {
   "cell_type": "code",
   "execution_count": 20,
   "metadata": {},
   "outputs": [],
   "source": [
    "from keras.preprocessing.image import load_img, img_to_array\n",
    "import os\n",
    "\n",
    "# [.0, .0, .0, .0, 1.0] => Jakim jesteś kwiatkiem\n",
    "# Ogarnąć ładowanie danych do pamięci komputera w paczkach\n",
    "\n",
    "flower_types = {\n",
    "    \"daisy\": 0,\n",
    "    \"tulip\": 1,\n",
    "    \"sunflower\": 2,\n",
    "    \"rose\": 3,\n",
    "    \"dandelion\": 4,\n",
    "    \"tulipan\": 1\n",
    "}\n",
    "\n",
    "flowers = []\n",
    "labels = []\n",
    "\n",
    "# array: (path_to_img, label) => shuffle => w pętli => załadować 30 pierwszych zdjęć => wrzucić do modelu => usunąć je z tablicy\n",
    "\n",
    "for folder, _, filenames in os.walk('/Users/jenek/Desktop/szum-scripts/images/kaggle'):\n",
    "    for filename in filenames:\n",
    "        if (os.path.splitext(filename)[1] == \".jpg\"):\n",
    "            image = load_img(os.path.join(folder, filename), target_size=(240,240))\n",
    "            flowers.append(img_to_array(image))\n",
    "            label = [.0, .0, .0, .0, .0]\n",
    "            label[flower_types[folder.split('/')[-1]]] = 1.0\n",
    "            labels.append(label)\n",
    "        "
   ]
  },
  {
   "cell_type": "code",
   "execution_count": 33,
   "metadata": {},
   "outputs": [
    {
     "name": "stdout",
     "output_type": "stream",
     "text": [
      "Model: \"sequential_8\"\n",
      "_________________________________________________________________\n",
      "Layer (type)                 Output Shape              Param #   \n",
      "=================================================================\n",
      "conv2d_14 (Conv2D)           (None, 238, 238, 64)      1792      \n",
      "_________________________________________________________________\n",
      "conv2d_15 (Conv2D)           (None, 236, 236, 32)      18464     \n",
      "_________________________________________________________________\n",
      "flatten_5 (Flatten)          (None, 1782272)           0         \n",
      "_________________________________________________________________\n",
      "dense_4 (Dense)              (None, 5)                 8911365   \n",
      "=================================================================\n",
      "Total params: 8,931,621\n",
      "Trainable params: 8,931,621\n",
      "Non-trainable params: 0\n",
      "_________________________________________________________________\n"
     ]
    }
   ],
   "source": [
    "from keras.models import Sequential\n",
    "from keras.layers import Dense, Conv2D, Flatten\n",
    "#create model\n",
    "model = Sequential()\n",
    "#add model layers\n",
    "model.add(Conv2D(64, kernel_size=3, activation='relu', input_shape=(240,240,3)))\n",
    "model.add(Conv2D(32, kernel_size=3, activation='relu'))\n",
    "model.add(Flatten())\n",
    "model.add(Dense(5, activation='softmax'))\n",
    "\n",
    "#compile model using accuracy to measure model performance\n",
    "model.compile(optimizer='adam', loss='categorical_crossentropy', metrics=['accuracy'])\n",
    "\n",
    "model.summary()"
   ]
  },
  {
   "cell_type": "code",
   "execution_count": 40,
   "metadata": {},
   "outputs": [
    {
     "name": "stdout",
     "output_type": "stream",
     "text": [
      "(50, 5)\n",
      "Train on 100 samples, validate on 50 samples\n",
      "Epoch 1/3\n",
      "100/100 [==============================] - 16s 158ms/step - loss: 0.4377 - accuracy: 0.9500 - val_loss: 0.0000e+00 - val_accuracy: 1.0000\n",
      "Epoch 2/3\n",
      "100/100 [==============================] - 15s 146ms/step - loss: 0.0000e+00 - accuracy: 1.0000 - val_loss: 0.0000e+00 - val_accuracy: 1.0000\n",
      "Epoch 3/3\n",
      "100/100 [==============================] - 14s 145ms/step - loss: 0.0000e+00 - accuracy: 1.0000 - val_loss: 0.0000e+00 - val_accuracy: 1.0000\n"
     ]
    },
    {
     "data": {
      "text/plain": [
       "<keras.callbacks.callbacks.History at 0x2d7498410>"
      ]
     },
     "execution_count": 40,
     "metadata": {},
     "output_type": "execute_result"
    }
   ],
   "source": [
    "#train the model\n",
    "import numpy as np\n",
    "\n",
    "X_train = np.array(flowers[:100])\n",
    "X_test = np.array(labels[:100])\n",
    "\n",
    "from keras.utils import to_categorical\n",
    "\n",
    "y_train = np.array(flowers[100:150])\n",
    "y_test = np.array(labels[100:150])\n",
    "\n",
    "print(y_test.shape)\n",
    "\n",
    "model.fit(X_train, X_test, validation_data=(y_train, y_test), epochs=3)"
   ]
  },
  {
   "cell_type": "code",
   "execution_count": 49,
   "metadata": {},
   "outputs": [
    {
     "name": "stdout",
     "output_type": "stream",
     "text": [
      "(1, 240, 240, 3)\n"
     ]
    },
    {
     "data": {
      "text/plain": [
       "array([[1., 0., 0., 0., 0.]], dtype=float32)"
      ]
     },
     "execution_count": 49,
     "metadata": {},
     "output_type": "execute_result"
    }
   ],
   "source": [
    "model.predict(np.array([X_train[4]]))"
   ]
  },
  {
   "cell_type": "code",
   "execution_count": 50,
   "metadata": {},
   "outputs": [
    {
     "data": {
      "text/plain": [
       "array([1., 0., 0., 0., 0.])"
      ]
     },
     "execution_count": 50,
     "metadata": {},
     "output_type": "execute_result"
    }
   ],
   "source": [
    "#actual results for first 4 images in test set\n",
    "X_test[4]"
   ]
  },
  {
   "cell_type": "code",
   "execution_count": null,
   "metadata": {},
   "outputs": [],
   "source": []
  }
 ],
 "metadata": {
  "kernelspec": {
   "display_name": "Python 3",
   "language": "python",
   "name": "python3"
  },
  "language_info": {
   "codemirror_mode": {
    "name": "ipython",
    "version": 3
   },
   "file_extension": ".py",
   "mimetype": "text/x-python",
   "name": "python",
   "nbconvert_exporter": "python",
   "pygments_lexer": "ipython3",
   "version": "3.7.7"
  }
 },
 "nbformat": 4,
 "nbformat_minor": 2
}
