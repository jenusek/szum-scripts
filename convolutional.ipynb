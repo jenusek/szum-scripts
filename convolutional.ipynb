{
 "cells": [
  {
   "cell_type": "code",
   "execution_count": 1,
   "metadata": {},
   "outputs": [],
   "source": [
    "train_images_dir = \"/macierz/home/s165756/SPLIT1/TRAIN\"\n",
    "val_images_dir = \"/macierz/home/s165756/SPLIT1/VAL\"\n",
    "test_images_dir = \"/macierz/home/s165756/SPLIT1/TEST\""
   ]
  },
  {
   "cell_type": "code",
   "execution_count": 2,
   "metadata": {},
   "outputs": [
    {
     "name": "stderr",
     "output_type": "stream",
     "text": [
      "Using TensorFlow backend.\n"
     ]
    },
    {
     "name": "stdout",
     "output_type": "stream",
     "text": [
      "Found 1505 images belonging to 5 classes.\n",
      "Found 3236 images belonging to 5 classes.\n",
      "Found 416 images belonging to 5 classes.\n"
     ]
    }
   ],
   "source": [
    "import os\n",
    "import random\n",
    "import numpy as np\n",
    "\n",
    "from keras.preprocessing.image import load_img, img_to_array, ImageDataGenerator\n",
    "\n",
    "val_datagen = ImageDataGenerator(rescale=1./255)\n",
    "val_generator = val_datagen.flow_from_directory(val_images_dir, class_mode='categorical', batch_size=64)\n",
    "\n",
    "train_datagen = ImageDataGenerator(rescale=1./255,\n",
    "                                    rotation_range=40,\n",
    "                                    width_shift_range=0.2,\n",
    "                                    height_shift_range=0.2,\n",
    "                                    shear_range=0.2,\n",
    "                                    zoom_range=0.2,\n",
    "                                    horizontal_flip=True,)\n",
    "train_generator = train_datagen.flow_from_directory(train_images_dir, class_mode='categorical', batch_size=64)\n",
    "\n",
    "test_datagen = ImageDataGenerator()\n",
    "test_generator = test_datagen.flow_from_directory(test_images_dir, class_mode='categorical', batch_size=64)"
   ]
  },
  {
   "cell_type": "code",
   "execution_count": 3,
   "metadata": {},
   "outputs": [
    {
     "name": "stdout",
     "output_type": "stream",
     "text": [
      "Model: \"sequential_1\"\n",
      "_________________________________________________________________\n",
      "Layer (type)                 Output Shape              Param #   \n",
      "=================================================================\n",
      "conv2d_1 (Conv2D)            (None, 254, 254, 32)      896       \n",
      "_________________________________________________________________\n",
      "max_pooling2d_1 (MaxPooling2 (None, 127, 127, 32)      0         \n",
      "_________________________________________________________________\n",
      "conv2d_2 (Conv2D)            (None, 125, 125, 64)      18496     \n",
      "_________________________________________________________________\n",
      "max_pooling2d_2 (MaxPooling2 (None, 62, 62, 64)        0         \n",
      "_________________________________________________________________\n",
      "conv2d_3 (Conv2D)            (None, 60, 60, 128)       73856     \n",
      "_________________________________________________________________\n",
      "max_pooling2d_3 (MaxPooling2 (None, 30, 30, 128)       0         \n",
      "_________________________________________________________________\n",
      "flatten_1 (Flatten)          (None, 115200)            0         \n",
      "_________________________________________________________________\n",
      "dropout_1 (Dropout)          (None, 115200)            0         \n",
      "_________________________________________________________________\n",
      "dense_1 (Dense)              (None, 5)                 576005    \n",
      "=================================================================\n",
      "Total params: 669,253\n",
      "Trainable params: 669,253\n",
      "Non-trainable params: 0\n",
      "_________________________________________________________________\n"
     ]
    }
   ],
   "source": [
    "from keras.models import Sequential\n",
    "from keras.layers import Dense, Conv2D, Flatten, MaxPooling2D, Dropout\n",
    "\n",
    "model = Sequential()\n",
    "model.add(Conv2D(32, kernel_size=3, activation='relu', input_shape=(256,256,3)))\n",
    "model.add(MaxPooling2D((2,2,)))\n",
    "model.add(Conv2D(64, kernel_size=3, activation='relu'))\n",
    "model.add(MaxPooling2D((2,2,)))\n",
    "model.add(Conv2D(128, kernel_size=3, activation='relu'))\n",
    "model.add(MaxPooling2D((2,2,)))\n",
    "model.add(Flatten())\n",
    "model.add(Dropout(0.5))\n",
    "model.add(Dense(5, activation='softmax'))\n",
    "model.compile(optimizer='adam', loss='categorical_crossentropy', metrics=['accuracy'])\n",
    "\n",
    "model.summary()"
   ]
  },
  {
   "cell_type": "code",
   "execution_count": 5,
   "metadata": {},
   "outputs": [
    {
     "name": "stdout",
     "output_type": "stream",
     "text": [
      "Epoch 1/16\n",
      "16/16 [==============================] - 130s 8s/step - loss: 1.5999 - accuracy: 0.2852 - val_loss: 1.4236 - val_accuracy: 0.2969\n",
      "Epoch 2/16\n",
      "16/16 [==============================] - 152s 10s/step - loss: 1.3065 - accuracy: 0.4106 - val_loss: 1.1742 - val_accuracy: 0.4922\n",
      "Epoch 3/16\n",
      "16/16 [==============================] - 174s 11s/step - loss: 1.2813 - accuracy: 0.4424 - val_loss: 1.0061 - val_accuracy: 0.5447\n",
      "Epoch 4/16\n",
      "16/16 [==============================] - 132s 8s/step - loss: 1.2710 - accuracy: 0.4521 - val_loss: 1.2342 - val_accuracy: 0.5039\n",
      "Epoch 5/16\n",
      "16/16 [==============================] - 125s 8s/step - loss: 1.2332 - accuracy: 0.4508 - val_loss: 0.9656 - val_accuracy: 0.6172\n",
      "Epoch 6/16\n",
      "16/16 [==============================] - 124s 8s/step - loss: 1.1882 - accuracy: 0.5029 - val_loss: 1.0981 - val_accuracy: 0.6757\n",
      "Epoch 7/16\n",
      "16/16 [==============================] - 129s 8s/step - loss: 1.2025 - accuracy: 0.4990 - val_loss: 0.9565 - val_accuracy: 0.6270\n",
      "Epoch 8/16\n",
      "16/16 [==============================] - 137s 9s/step - loss: 1.2047 - accuracy: 0.4873 - val_loss: 0.8899 - val_accuracy: 0.6484\n",
      "Epoch 9/16\n",
      "16/16 [==============================] - 148s 9s/step - loss: 1.1270 - accuracy: 0.5488 - val_loss: 0.8991 - val_accuracy: 0.6944\n",
      "Epoch 10/16\n",
      "16/16 [==============================] - 143s 9s/step - loss: 1.1425 - accuracy: 0.5498 - val_loss: 0.9883 - val_accuracy: 0.6426\n",
      "Epoch 11/16\n",
      "16/16 [==============================] - 137s 9s/step - loss: 1.1462 - accuracy: 0.5322 - val_loss: 0.8648 - val_accuracy: 0.7090\n",
      "Epoch 12/16\n",
      "16/16 [==============================] - 137s 9s/step - loss: 1.0646 - accuracy: 0.5752 - val_loss: 0.7330 - val_accuracy: 0.7048\n",
      "Epoch 13/16\n",
      "16/16 [==============================] - 124s 8s/step - loss: 1.1083 - accuracy: 0.5640 - val_loss: 0.8533 - val_accuracy: 0.6758\n",
      "Epoch 14/16\n",
      "16/16 [==============================] - 123s 8s/step - loss: 1.0725 - accuracy: 0.5781 - val_loss: 0.7668 - val_accuracy: 0.6895\n",
      "Epoch 15/16\n",
      "16/16 [==============================] - 140s 9s/step - loss: 1.0556 - accuracy: 0.5967 - val_loss: 0.8208 - val_accuracy: 0.7380\n",
      "Epoch 16/16\n",
      "16/16 [==============================] - 139s 9s/step - loss: 1.0227 - accuracy: 0.5938 - val_loss: 0.7708 - val_accuracy: 0.7090\n"
     ]
    },
    {
     "data": {
      "text/plain": [
       "<keras.callbacks.callbacks.History at 0x7f77941a8e48>"
      ]
     },
     "execution_count": 5,
     "metadata": {},
     "output_type": "execute_result"
    }
   ],
   "source": [
    "model.fit_generator(train_generator, steps_per_epoch=16, validation_data=val_generator, validation_steps=8, epochs=16)"
   ]
  },
  {
   "cell_type": "code",
   "execution_count": 6,
   "metadata": {},
   "outputs": [
    {
     "name": "stdout",
     "output_type": "stream",
     "text": [
      "Accuracy =  0.5888888835906982\n"
     ]
    }
   ],
   "source": [
    "scores = model.evaluate_generator(test_generator, steps=24)\n",
    "print(\"Accuracy = \", scores[1])"
   ]
  },
  {
   "cell_type": "code",
   "execution_count": null,
   "metadata": {},
   "outputs": [],
   "source": []
  }
 ],
 "metadata": {
  "kernelspec": {
   "display_name": "Python 3",
   "language": "python",
   "name": "python3"
  },
  "language_info": {
   "codemirror_mode": {
    "name": "ipython",
    "version": 3
   },
   "file_extension": ".py",
   "mimetype": "text/x-python",
   "name": "python",
   "nbconvert_exporter": "python",
   "pygments_lexer": "ipython3",
   "version": "3.6.9"
  }
 },
 "nbformat": 4,
 "nbformat_minor": 2
}
